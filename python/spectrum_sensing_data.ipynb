{
 "cells": [
  {
   "cell_type": "markdown",
   "metadata": {},
   "source": [
    "# Spectrum Sensing Data Set Generation"
   ]
  },
  {
   "cell_type": "markdown",
   "metadata": {},
   "source": [
    "## Import Packages"
   ]
  },
  {
   "cell_type": "code",
   "execution_count": 21,
   "metadata": {},
   "outputs": [],
   "source": [
    "import numpy as np\n",
    "import scipy.io\n",
    "import matplotlib.pyplot as plt\n",
    "from matplotlib import colors"
   ]
  },
  {
   "cell_type": "markdown",
   "metadata": {},
   "source": [
    "## Configure Data Set Parameters"
   ]
  },
  {
   "cell_type": "code",
   "execution_count": 22,
   "metadata": {},
   "outputs": [],
   "source": [
    "# Random seed\n",
    "seed = 0 \n",
    "np.random.seed(seed)\n",
    "\n",
    "# Number of Frames (time steps)\n",
    "nframes = 6102\n",
    "\n",
    "#Kian's code choose the first subcarrier\n",
    "selectedSubcarrier = 0 \n",
    "\n",
    "# Number of data subcarriers\n",
    "numSubcarriers = 1 \n",
    "\n",
    "# Number of OFDM symbols\n",
    "numSym = 1 \n",
    "\n",
    "# Number of Rx and Tx antennas\n",
    "numRxAnt = numTxAnt = 1\n",
    "\n",
    "# Signal to Noise Ratio in dB\n",
    "# SNRdb = 0\n",
    "# SNRdb = -5\n",
    "SNRdb = -10\n",
    "\n",
    "# Signal to Noise Ratio (Linear)\n",
    "SNRlin = 10**(SNRdb/10)"
   ]
  },
  {
   "cell_type": "markdown",
   "metadata": {},
   "source": [
    "## Load Aachen University Spectrum Occupancy Measurements Sensing Data\n",
    "\n",
    "[RWTH Aachen University Static Spectrum Occupancy Measurement Campaign](https://download.mobnets.rwth-aachen.de)\n",
    "\n",
    "[Evaluation of Spectrum Occupancy in Indoor and Outdoor Scenario in the Context of Cognitive Radio](https://www.inets.rwth-aachen.de/fileadmin/PublicationPdfs/2007/SpectOcc.pdf)"
   ]
  },
  {
   "cell_type": "code",
   "execution_count": 23,
   "metadata": {},
   "outputs": [],
   "source": [
    "# load spectrum occupancy data, each matrix contains 2034 OFDM frames for the 40 subcarriers\n",
    "label23 = scipy.io.loadmat('aachen_spectrum_data/label23.mat')\n",
    "label24 = scipy.io.loadmat('aachen_spectrum_data/label24.mat')\n",
    "label25 = scipy.io.loadmat('aachen_spectrum_data/label25.mat')\n",
    "\n",
    "# concatenate spectrum occupancy data loaded labels\n",
    "labels = np.vstack([label23['label'], label24['label'], label25['label']])\n",
    "labels = labels[:,selectedSubcarrier:selectedSubcarrier+1]"
   ]
  },
  {
   "cell_type": "markdown",
   "metadata": {},
   "source": [
    "## Generate Random Data to Be Transmitted"
   ]
  },
  {
   "cell_type": "code",
   "execution_count": 24,
   "metadata": {},
   "outputs": [],
   "source": [
    "# generate an array of symbols in range [0,1,2,3] for: nframes (time steps) (6102), numSym symbols (1), numTxAnt (1)\n",
    "data = np.random.randint(0, 4, [nframes, numSym, numTxAnt])"
   ]
  },
  {
   "cell_type": "markdown",
   "metadata": {},
   "source": [
    "## Perform QPSK Modulation on the Random Data"
   ]
  },
  {
   "cell_type": "code",
   "execution_count": 25,
   "metadata": {},
   "outputs": [],
   "source": [
    "# qpsk mappings\n",
    "mapping_table_qpsk = {\n",
    "    0:  0.7071 + 0.7071j,\n",
    "    1: -0.7071 + 0.7071j,\n",
    "    2:  0.7071 - 0.7071j,\n",
    "    3: -0.7071 - 0.7071j,\n",
    "}\n",
    "\n",
    "# mapping to QPSK symbols\n",
    "modData = np.vectorize(mapping_table_qpsk.get)(data) "
   ]
  },
  {
   "cell_type": "markdown",
   "metadata": {},
   "source": [
    "## Generate Spectrum Sensing Data Set Using Modulated Data"
   ]
  },
  {
   "cell_type": "code",
   "execution_count": 26,
   "metadata": {},
   "outputs": [],
   "source": [
    "# array of received data\n",
    "received = []\n",
    "\n",
    "# dataSize = number of subcarriers (1)\n",
    "dataSize = labels.shape[1]\n",
    "\n",
    "# number of time steps on each subcarrier\n",
    "# for each frame (time step)\n",
    "for k in range(nframes):\n",
    "\n",
    "  # range(0,1)\n",
    "  # range size = 1\n",
    "  # [k,k+1]\n",
    "  indData = range(k*dataSize, (k+1)*dataSize)\n",
    "\n",
    "  # spectrum occupancy at the current frame for each subcarrier\n",
    "  onandoff = labels[k,:]\n",
    "\n",
    "  # modData.shape = (6102, 1, 1)\n",
    "  # nframes (time steps) (6102), numSubcarriers subcarriers (1), numSym symbols (1), numTxAnt (1)\n",
    "  data1 = modData[k:k+1,:,:].copy()\n",
    "\n",
    "  # if subcarrier is busy (0), clear the transmitted symbol\n",
    "  data1[onandoff==0,:,:] = 0\n",
    "\n",
    "  # add the data of the selected subcarrier to the received array\n",
    "  # selecting the symbols from each of the six antennas for the chosen subcarrier\n",
    "  received.append(data1[selectedSubcarrier,:].reshape(-1)) #Choose only the first subcarrier from the 40\n",
    "  \n",
    "received = np.array(received)"
   ]
  },
  {
   "cell_type": "markdown",
   "metadata": {},
   "source": [
    "## Add Noise to Received Symbols"
   ]
  },
  {
   "cell_type": "code",
   "execution_count": 27,
   "metadata": {},
   "outputs": [],
   "source": [
    "# create np array with shape of received (6102 x 1)\n",
    "receivedSignal = np.zeros_like(received)\n",
    "\n",
    "# for each frame (time step)\n",
    "for i in range(nframes):\n",
    "\n",
    "  # calculate channel gain\n",
    "  # np.random.randn(numTxAnt, numRxAnt) = dimensions of returned array = 1x1\n",
    "  # chGain = ( rand_num + j * rand_num ) / sqrt(0.1)\n",
    "  chGain = (np.random.randn(numTxAnt, numRxAnt) + 1j*np.random.randn(numTxAnt, numRxAnt)) / np.sqrt(.1) # Random 2x2 channel\n",
    "\n",
    "  # channel noise 1x1\n",
    "  # channel noise only affects the real part\n",
    "  nn = np.random.randn(1, numRxAnt) + 0j\n",
    "\n",
    "  # multiply SNR received signal times channel gain\n",
    "  # higher SNRlin == higher signal strength (signal higher than noise)\n",
    "  # SNRlin = 10**(SNRdb/10)\n",
    "  # if SNRdb is set high, SNRlin will be low and decrease the signal strength\n",
    "  ss = np.sqrt(SNRlin) * received[i,:] * chGain\n",
    "\n",
    "  # add signal strength and noise\n",
    "  receivedSignal[i,:] = ss + nn"
   ]
  },
  {
   "cell_type": "markdown",
   "metadata": {},
   "source": [
    "## Save Spectrum Occupancy Data Set to a File"
   ]
  },
  {
   "cell_type": "code",
   "execution_count": 28,
   "metadata": {},
   "outputs": [],
   "source": [
    "# record actual spectrum occupancy measure\n",
    "target = labels[:nframes, selectedSubcarrier]\n",
    "\n",
    "# format filename\n",
    "filename = './spectrum_data/spectrum_data_{}db.csv'.format(SNRdb)\n",
    "\n",
    "# reshape transmitted data matrix\n",
    "i_data = np.real(received).reshape(nframes,1)\n",
    "q_data = np.imag(received).reshape(nframes,1)\n",
    "\n",
    "# reshape received data matrix\n",
    "i_data_received = np.real(receivedSignal).reshape(nframes,1)\n",
    "q_data_received = np.imag(receivedSignal).reshape(nframes,1)\n",
    "\n",
    "# store transmitted and received data\n",
    "combined_data = np.concatenate([i_data,q_data,i_data_received,q_data_received,target.reshape(nframes,1)],axis=1)\n",
    "\n",
    "# save file\n",
    "np.savetxt(filename, combined_data, delimiter=\",\")"
   ]
  },
  {
   "cell_type": "markdown",
   "metadata": {},
   "source": [
    "## Save Spectrum Occupancy Data using an ADC Scale"
   ]
  },
  {
   "cell_type": "code",
   "execution_count": 29,
   "metadata": {},
   "outputs": [],
   "source": [
    "# max ADC output for signed/unsigned number\n",
    "ADC_MAX_SIGNED = 2**11\n",
    "\n",
    "# normalize, convert to ADC output representation\n",
    "i_data = ((i_data_received / np.max(i_data_received)) * (ADC_MAX_SIGNED)).astype(np.short)\n",
    "q_data = ((q_data_received / np.max(q_data_received)) * (ADC_MAX_SIGNED)).astype(np.short)\n",
    "\n",
    "fh = open(f\"./spectrum_data/spectrum_data_adc_{SNRdb}db.csv\",\"w\")\n",
    "for i in range(nframes):\n",
    "    fh.write(str(i_data[i][0]) + \",\" + str(q_data[i][0]) + \",\" + str(target[i].astype(int)) + \"\\n\")\n",
    "fh.close()"
   ]
  },
  {
   "cell_type": "markdown",
   "metadata": {},
   "source": [
    "## Save Spectrum Occupancy Data in Intel HEX File Format for Hardware"
   ]
  },
  {
   "cell_type": "code",
   "execution_count": 30,
   "metadata": {},
   "outputs": [],
   "source": [
    "# write input data hex file (all data)\n",
    "fh = open(f\"./spectrum_data/iq_data_rom_{SNRdb}db.hex\",\"w\")\n",
    "addr = 0x0000\n",
    "for i in range(i_data.size):\n",
    "    fh.write(':04{:04x}00{:04x}{:04x}FF\\n'.format(addr,i_data[i][0] & 0xffff,q_data[i][0] & 0xffff))\n",
    "    addr += 1\n",
    "fh.write(':00000001FF')\n",
    "fh.close()"
   ]
  }
 ],
 "metadata": {
  "interpreter": {
   "hash": "31f2aee4e71d21fbe5cf8b01ff0e069b9275f58929596ceb00d14d90e3e16cd6"
  },
  "kernelspec": {
   "display_name": "Python 3.8.9 64-bit",
   "language": "python",
   "name": "python3"
  },
  "language_info": {
   "codemirror_mode": {
    "name": "ipython",
    "version": 3
   },
   "file_extension": ".py",
   "mimetype": "text/x-python",
   "name": "python",
   "nbconvert_exporter": "python",
   "pygments_lexer": "ipython3",
   "version": "3.8.9"
  },
  "orig_nbformat": 4
 },
 "nbformat": 4,
 "nbformat_minor": 2
}
