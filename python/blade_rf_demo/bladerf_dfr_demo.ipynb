{
 "cells": [
  {
   "cell_type": "markdown",
   "metadata": {},
   "source": [
    "# BladeRF Delayed Feedback Reservoir Demo"
   ]
  },
  {
   "cell_type": "markdown",
   "metadata": {},
   "source": [
    "## Import Statements"
   ]
  },
  {
   "cell_type": "code",
   "execution_count": null,
   "metadata": {},
   "outputs": [],
   "source": [
    "import sys\n",
    "import os\n",
    "import threading\n",
    "\n",
    "from multiprocessing.pool import ThreadPool\n",
    "from configparser         import ConfigParser\n",
    "\n",
    "from bladerf              import _bladerf"
   ]
  },
  {
   "cell_type": "markdown",
   "metadata": {},
   "source": [
    "## BladeRF Device Functions"
   ]
  },
  {
   "cell_type": "markdown",
   "metadata": {},
   "source": [
    "### Close the Device and Exit"
   ]
  },
  {
   "cell_type": "code",
   "execution_count": null,
   "metadata": {},
   "outputs": [],
   "source": [
    "# =============================================================================\n",
    "# Close the device and exit\n",
    "# =============================================================================\n",
    "def shutdown( error = 0, board = None ):\n",
    "    print( \"Shutting down with error code: \" + str(error) )\n",
    "    if( board != None ):\n",
    "        board.close()\n",
    "    sys.exit(error)"
   ]
  },
  {
   "cell_type": "code",
   "execution_count": null,
   "metadata": {},
   "outputs": [],
   "source": [
    "# =============================================================================\n",
    "# Version information\n",
    "# =============================================================================\n",
    "def print_versions( device = None ):\n",
    "    print( \"libbladeRF version: \" + str(_bladerf.version()) )\n",
    "    if( device != None ):\n",
    "        try:\n",
    "            print( \"Firmware version: \" + str(device.get_fw_version()) )\n",
    "        except:\n",
    "            print( \"Firmware version: \" + \"ERROR\" )\n",
    "            raise\n",
    "\n",
    "        try:\n",
    "            print( \"FPGA version: \"     + str(device.get_fpga_version()) )\n",
    "        except:\n",
    "            print( \"FPGA version: \"     + \"ERROR\" )\n",
    "            raise\n",
    "\n",
    "    return 0"
   ]
  },
  {
   "cell_type": "code",
   "execution_count": null,
   "metadata": {},
   "outputs": [],
   "source": [
    "# =============================================================================\n",
    "# Search for a bladeRF device attached to the host system\n",
    "# Returns a bladeRF device handle.\n",
    "# =============================================================================\n",
    "def probe_bladerf():\n",
    "    device = None\n",
    "    print( \"Searching for bladeRF devices...\" )\n",
    "    try:\n",
    "        devinfos = _bladerf.get_device_list()\n",
    "        if( len(devinfos) == 1 ):\n",
    "            device = \"{backend}:device={usb_bus}:{usb_addr}\".format(**devinfos[0]._asdict())\n",
    "            print( \"Found bladeRF device: \" + str(device) )\n",
    "        if( len(devinfos) > 1 ):\n",
    "            print( \"Unsupported feature: more than one bladeRFs detected.\" )\n",
    "            print( \"\\n\".join([str(devinfo) for devinfo in devinfos]) )\n",
    "            shutdown( error = -1, board = None )\n",
    "    except _bladerf.BladeRFError:\n",
    "        print( \"No bladeRF devices found.\" )\n",
    "        pass\n",
    "\n",
    "    return device"
   ]
  },
  {
   "cell_type": "code",
   "execution_count": null,
   "metadata": {},
   "outputs": [],
   "source": [
    "# =============================================================================\n",
    "# Load FPGA\n",
    "# =============================================================================\n",
    "def load_fpga( device, image ):\n",
    "\n",
    "    image = os.path.abspath( image )\n",
    "\n",
    "    if( not os.path.exists(image) ):\n",
    "        print( \"FPGA image does not exist: \" + str(image) )\n",
    "        return -1\n",
    "\n",
    "    try:\n",
    "        print( \"Loading FPGA image: \" + str(image ) )\n",
    "        device.load_fpga( image )\n",
    "        fpga_loaded  = device.is_fpga_configured()\n",
    "        fpga_version = device.get_fpga_version()\n",
    "\n",
    "        if( fpga_loaded ):\n",
    "            print( \"FPGA successfully loaded. Version: \" + str(fpga_version) )\n",
    "\n",
    "    except _bladerf.BladeRFError:\n",
    "        print( \"Error loading FPGA.\" )\n",
    "        raise\n",
    "\n",
    "    return 0"
   ]
  },
  {
   "cell_type": "code",
   "execution_count": null,
   "metadata": {},
   "outputs": [],
   "source": [
    "# =============================================================================\n",
    "# RECEIVE\n",
    "# =============================================================================\n",
    "def receive(device, channel : int, freq : int, rate : int, gain : int,\n",
    "            tx_start = None, rx_done = None,\n",
    "            rxfile : str = '', num_samples : int = 1024):\n",
    "\n",
    "    status = 0\n",
    "\n",
    "    if( device == None ):\n",
    "        print( \"RX: Invalid device handle.\" )\n",
    "        return -1\n",
    "\n",
    "    if( channel == None ):\n",
    "        print( \"RX: Invalid channel.\" )\n",
    "        return -1\n",
    "\n",
    "    # Configure BladeRF\n",
    "    ch             = device.Channel(channel)\n",
    "    ch.frequency   = freq\n",
    "    ch.sample_rate = rate\n",
    "    ch.gain        = gain\n",
    "\n",
    "    # Setup synchronous stream\n",
    "    device.sync_config(layout         = _bladerf.ChannelLayout.RX_X1,\n",
    "                       fmt            = _bladerf.Format.SC16_Q11,\n",
    "                       num_buffers    = 16,\n",
    "                       buffer_size    = 8192,\n",
    "                       num_transfers  = 8,\n",
    "                       stream_timeout = 3500)\n",
    "\n",
    "    # Enable module\n",
    "    print( \"RX: Start\" )\n",
    "    ch.enable = True\n",
    "\n",
    "    # Create receive buffer\n",
    "    bytes_per_sample = 4\n",
    "    buf = bytearray(1024*bytes_per_sample)\n",
    "    num_samples_read = 0\n",
    "\n",
    "    # Tell TX thread to begin\n",
    "    if( tx_start != None ):\n",
    "        tx_start.set()\n",
    "\n",
    "    # Save the samples\n",
    "    with open(rxfile, 'wb') as outfile:\n",
    "        while True:\n",
    "            if num_samples > 0 and num_samples_read == num_samples:\n",
    "                break\n",
    "            elif num_samples > 0:\n",
    "                num = min(len(buf)//bytes_per_sample,\n",
    "                          num_samples-num_samples_read)\n",
    "            else:\n",
    "                num = len(buf)//bytes_per_sample\n",
    "\n",
    "            # Read into buffer\n",
    "            device.sync_rx(buf, num)\n",
    "            num_samples_read += num\n",
    "\n",
    "            # Write to file\n",
    "            outfile.write(buf[:num*bytes_per_sample])\n",
    "\n",
    "    # Disable module\n",
    "    print( \"RX: Stop\" )\n",
    "    ch.enable = False\n",
    "\n",
    "    if( rx_done != None ):\n",
    "        rx_done.set()\n",
    "\n",
    "    print( \"RX: Done\" )\n",
    "\n",
    "    return 0"
   ]
  }
 ],
 "metadata": {
  "language_info": {
   "name": "python"
  },
  "orig_nbformat": 4
 },
 "nbformat": 4,
 "nbformat_minor": 2
}
