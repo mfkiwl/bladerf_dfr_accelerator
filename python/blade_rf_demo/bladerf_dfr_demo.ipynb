{
 "cells": [
  {
   "cell_type": "markdown",
   "metadata": {},
   "source": [
    "# BladeRF Delayed Feedback Reservoir Demo"
   ]
  },
  {
   "cell_type": "markdown",
   "metadata": {},
   "source": [
    "## Import Statements"
   ]
  },
  {
   "cell_type": "code",
   "execution_count": 11,
   "metadata": {},
   "outputs": [],
   "source": [
    "import sys\n",
    "import os\n",
    "import threading\n",
    "\n",
    "from multiprocessing.pool import ThreadPool\n",
    "from configparser         import ConfigParser\n",
    "\n",
    "from bladerf              import _bladerf"
   ]
  },
  {
   "cell_type": "markdown",
   "metadata": {},
   "source": [
    "## BladeRF Device Functions"
   ]
  },
  {
   "cell_type": "markdown",
   "metadata": {},
   "source": [
    "### Close the Device and Exit"
   ]
  },
  {
   "cell_type": "code",
   "execution_count": 12,
   "metadata": {},
   "outputs": [],
   "source": [
    "# =============================================================================\n",
    "# Close the device and exit\n",
    "# =============================================================================\n",
    "def shutdown( error = 0, board = None ):\n",
    "    print( \"Shutting down with error code: \" + str(error) )\n",
    "    if( board != None ):\n",
    "        board.close()\n",
    "    sys.exit(error)"
   ]
  },
  {
   "cell_type": "code",
   "execution_count": 13,
   "metadata": {},
   "outputs": [],
   "source": [
    "# =============================================================================\n",
    "# Version information\n",
    "# =============================================================================\n",
    "def print_versions( device = None ):\n",
    "    print( \"libbladeRF version: \" + str(_bladerf.version()) )\n",
    "    if( device != None ):\n",
    "        try:\n",
    "            print( \"Firmware version: \" + str(device.get_fw_version()) )\n",
    "        except:\n",
    "            print( \"Firmware version: \" + \"ERROR\" )\n",
    "            raise\n",
    "\n",
    "        try:\n",
    "            print( \"FPGA version: \"     + str(device.get_fpga_version()) )\n",
    "        except:\n",
    "            print( \"FPGA version: \"     + \"ERROR\" )\n",
    "            raise\n",
    "\n",
    "    return 0"
   ]
  },
  {
   "cell_type": "code",
   "execution_count": 14,
   "metadata": {},
   "outputs": [],
   "source": [
    "# =============================================================================\n",
    "# Search for a bladeRF device attached to the host system\n",
    "# Returns a bladeRF device handle.\n",
    "# =============================================================================\n",
    "def probe_bladerf():\n",
    "    device = None\n",
    "    print( \"Searching for bladeRF devices...\" )\n",
    "    try:\n",
    "        devinfos = _bladerf.get_device_list()\n",
    "        if( len(devinfos) == 1 ):\n",
    "            device = \"{backend}:device={usb_bus}:{usb_addr}\".format(**devinfos[0]._asdict())\n",
    "            print( \"Found bladeRF device: \" + str(device) )\n",
    "        if( len(devinfos) > 1 ):\n",
    "            print( \"Unsupported feature: more than one bladeRFs detected.\" )\n",
    "            print( \"\\n\".join([str(devinfo) for devinfo in devinfos]) )\n",
    "            shutdown( error = -1, board = None )\n",
    "    except _bladerf.BladeRFError:\n",
    "        print( \"No bladeRF devices found.\" )\n",
    "        pass\n",
    "\n",
    "    return device"
   ]
  },
  {
   "cell_type": "code",
   "execution_count": 15,
   "metadata": {},
   "outputs": [],
   "source": [
    "# =============================================================================\n",
    "# Load FPGA\n",
    "# =============================================================================\n",
    "def load_fpga( device, image ):\n",
    "\n",
    "    image = os.path.abspath( image )\n",
    "\n",
    "    if( not os.path.exists(image) ):\n",
    "        print( \"FPGA image does not exist: \" + str(image) )\n",
    "        return -1\n",
    "\n",
    "    try:\n",
    "        print( \"Loading FPGA image: \" + str(image ) )\n",
    "        device.load_fpga( image )\n",
    "        fpga_loaded  = device.is_fpga_configured()\n",
    "        fpga_version = device.get_fpga_version()\n",
    "\n",
    "        if( fpga_loaded ):\n",
    "            print( \"FPGA successfully loaded. Version: \" + str(fpga_version) )\n",
    "\n",
    "    except _bladerf.BladeRFError:\n",
    "        print( \"Error loading FPGA.\" )\n",
    "        raise\n",
    "\n",
    "    return 0"
   ]
  },
  {
   "cell_type": "code",
   "execution_count": 16,
   "metadata": {},
   "outputs": [],
   "source": [
    "# =============================================================================\n",
    "# RECEIVE\n",
    "# =============================================================================\n",
    "def receive(device, channel : int, freq : int, rate : int, gain : int,\n",
    "            tx_start = None, rx_done = None,\n",
    "            rxfile : str = '', num_samples : int = 1024):\n",
    "\n",
    "    status = 0\n",
    "\n",
    "    if( device == None ):\n",
    "        print( \"RX: Invalid device handle.\" )\n",
    "        return -1\n",
    "\n",
    "    if( channel == None ):\n",
    "        print( \"RX: Invalid channel.\" )\n",
    "        return -1\n",
    "\n",
    "    # Configure BladeRF\n",
    "    ch             = device.Channel(channel)\n",
    "    ch.frequency   = freq\n",
    "    ch.sample_rate = rate\n",
    "    ch.gain        = gain\n",
    "\n",
    "    # Setup synchronous stream\n",
    "    device.sync_config(layout         = _bladerf.ChannelLayout.RX_X1,\n",
    "                       fmt            = _bladerf.Format.SC16_Q11,\n",
    "                       num_buffers    = 16,\n",
    "                       buffer_size    = 8192,\n",
    "                       num_transfers  = 8,\n",
    "                       stream_timeout = 3500)\n",
    "\n",
    "    # Enable module\n",
    "    print( \"RX: Start\" )\n",
    "    ch.enable = True\n",
    "\n",
    "    # Create receive buffer\n",
    "    bytes_per_sample = 4\n",
    "    buf = bytearray(1024*bytes_per_sample)\n",
    "    num_samples_read = 0\n",
    "\n",
    "    # Tell TX thread to begin\n",
    "    if( tx_start != None ):\n",
    "        tx_start.set()\n",
    "\n",
    "    # Save the samples\n",
    "    with open(rxfile, 'wb') as outfile:\n",
    "        while True:\n",
    "            if num_samples > 0 and num_samples_read == num_samples:\n",
    "                break\n",
    "            elif num_samples > 0:\n",
    "                num = min(len(buf)//bytes_per_sample,\n",
    "                          num_samples-num_samples_read)\n",
    "            else:\n",
    "                num = len(buf)//bytes_per_sample\n",
    "\n",
    "            # Read into buffer\n",
    "            device.sync_rx(buf, num)\n",
    "            num_samples_read += num\n",
    "\n",
    "            # Write to file\n",
    "            outfile.write(buf[:num*bytes_per_sample])\n",
    "\n",
    "    # Disable module\n",
    "    print( \"RX: Stop\" )\n",
    "    ch.enable = False\n",
    "\n",
    "    if( rx_done != None ):\n",
    "        rx_done.set()\n",
    "\n",
    "    print( \"RX: Done\" )\n",
    "\n",
    "    return 0"
   ]
  },
  {
   "cell_type": "code",
   "execution_count": 17,
   "metadata": {},
   "outputs": [],
   "source": [
    "# =============================================================================\n",
    "# Load Configuration\n",
    "# =============================================================================\n",
    "\n",
    "config = ConfigParser()\n",
    "config.read('txrx.ini')\n",
    "\n",
    "# Set libbladeRF verbosity level\n",
    "verbosity = config.get('common', 'libbladerf_verbosity').upper()\n",
    "if  ( verbosity == \"VERBOSE\" ):  _bladerf.set_verbosity( 0 )\n",
    "elif( verbosity == \"DEBUG\" ):    _bladerf.set_verbosity( 1 )\n",
    "elif( verbosity == \"INFO\" ):     _bladerf.set_verbosity( 2 )\n",
    "elif( verbosity == \"WARNING\" ):  _bladerf.set_verbosity( 3 )\n",
    "elif( verbosity == \"ERROR\" ):    _bladerf.set_verbosity( 4 )\n",
    "elif( verbosity == \"CRITICAL\" ): _bladerf.set_verbosity( 5 )\n",
    "elif( verbosity == \"SILENT\" ):   _bladerf.set_verbosity( 6 )\n",
    "else:\n",
    "    print( \"Invalid libbladerf_verbosity specified in configuration file:\",\n",
    "           verbosity )\n",
    "    shutdown( error = -1, board = None )"
   ]
  },
  {
   "cell_type": "code",
   "execution_count": 19,
   "metadata": {},
   "outputs": [
    {
     "name": "stdout",
     "output_type": "stream",
     "text": [
      "Searching for bladeRF devices...\n",
      "Found bladeRF device: libusb:device=4:2\n"
     ]
    },
    {
     "ename": "NoDevError",
     "evalue": "No devices available",
     "output_type": "error",
     "traceback": [
      "\u001b[0;31m---------------------------------------------------------------------------\u001b[0m",
      "\u001b[0;31mNoDevError\u001b[0m                                Traceback (most recent call last)",
      "Input \u001b[0;32mIn [19]\u001b[0m, in \u001b[0;36m<module>\u001b[0;34m\u001b[0m\n\u001b[1;32m      8\u001b[0m     \u001b[38;5;28mprint\u001b[39m( \u001b[38;5;124m\"\u001b[39m\u001b[38;5;124mNo bladeRFs detected. Exiting.\u001b[39m\u001b[38;5;124m\"\u001b[39m )\n\u001b[1;32m      9\u001b[0m     shutdown( error \u001b[38;5;241m=\u001b[39m \u001b[38;5;241m-\u001b[39m\u001b[38;5;241m1\u001b[39m, board \u001b[38;5;241m=\u001b[39m \u001b[38;5;28;01mNone\u001b[39;00m )\n\u001b[0;32m---> 11\u001b[0m b          \u001b[38;5;241m=\u001b[39m \u001b[43m_bladerf\u001b[49m\u001b[38;5;241;43m.\u001b[39;49m\u001b[43mBladeRF\u001b[49m\u001b[43m(\u001b[49m\u001b[43m \u001b[49m\u001b[43muut\u001b[49m\u001b[43m \u001b[49m\u001b[43m)\u001b[49m\n\u001b[1;32m     12\u001b[0m board_name \u001b[38;5;241m=\u001b[39m b\u001b[38;5;241m.\u001b[39mboard_name\n\u001b[1;32m     13\u001b[0m fpga_size  \u001b[38;5;241m=\u001b[39m b\u001b[38;5;241m.\u001b[39mfpga_size\n",
      "File \u001b[0;32m/usr/local/lib/python3.8/dist-packages/bladerf-1.2.1-py3.8.egg/bladerf/_bladerf.py:477\u001b[0m, in \u001b[0;36mBladeRF.__init__\u001b[0;34m(self, device_identifier, devinfo)\u001b[0m\n\u001b[1;32m    475\u001b[0m \u001b[38;5;28;01mdef\u001b[39;00m \u001b[38;5;21m__init__\u001b[39m(\u001b[38;5;28mself\u001b[39m, device_identifier\u001b[38;5;241m=\u001b[39m\u001b[38;5;28;01mNone\u001b[39;00m, devinfo\u001b[38;5;241m=\u001b[39m\u001b[38;5;28;01mNone\u001b[39;00m):\n\u001b[1;32m    476\u001b[0m     \u001b[38;5;28mself\u001b[39m\u001b[38;5;241m.\u001b[39mdev \u001b[38;5;241m=\u001b[39m ffi\u001b[38;5;241m.\u001b[39mnew(\u001b[38;5;124m\"\u001b[39m\u001b[38;5;124mstruct bladerf *[1]\u001b[39m\u001b[38;5;124m\"\u001b[39m)\n\u001b[0;32m--> 477\u001b[0m     \u001b[38;5;28;43mself\u001b[39;49m\u001b[38;5;241;43m.\u001b[39;49m\u001b[43mopen\u001b[49m\u001b[43m(\u001b[49m\u001b[43mdevice_identifier\u001b[49m\u001b[43m,\u001b[49m\u001b[43m \u001b[49m\u001b[43mdevinfo\u001b[49m\u001b[43m)\u001b[49m\n",
      "File \u001b[0;32m/usr/local/lib/python3.8/dist-packages/bladerf-1.2.1-py3.8.egg/bladerf/_bladerf.py:492\u001b[0m, in \u001b[0;36mBladeRF.open\u001b[0;34m(self, device_identifier, devinfo)\u001b[0m\n\u001b[1;32m    490\u001b[0m \u001b[38;5;28;01melse\u001b[39;00m:\n\u001b[1;32m    491\u001b[0m     ret \u001b[38;5;241m=\u001b[39m libbladeRF\u001b[38;5;241m.\u001b[39mbladerf_open(\u001b[38;5;28mself\u001b[39m\u001b[38;5;241m.\u001b[39mdev, ffi\u001b[38;5;241m.\u001b[39mNULL)\n\u001b[0;32m--> 492\u001b[0m \u001b[43m_check_error\u001b[49m\u001b[43m(\u001b[49m\u001b[43mret\u001b[49m\u001b[43m)\u001b[49m\n",
      "File \u001b[0;32m/usr/local/lib/python3.8/dist-packages/bladerf-1.2.1-py3.8.egg/bladerf/_bladerf.py:399\u001b[0m, in \u001b[0;36m_check_error\u001b[0;34m(err)\u001b[0m\n\u001b[1;32m    396\u001b[0m \u001b[38;5;28;01mexcept\u001b[39;00m \u001b[38;5;167;01mValueError\u001b[39;00m:\n\u001b[1;32m    397\u001b[0m     errorval \u001b[38;5;241m=\u001b[39m ReturnCode(\u001b[38;5;241m0\u001b[39m)\n\u001b[0;32m--> 399\u001b[0m \u001b[38;5;28;01mraise\u001b[39;00m \u001b[38;5;28mglobals\u001b[39m()[errorval\u001b[38;5;241m.\u001b[39mname](err)\n",
      "\u001b[0;31mNoDevError\u001b[0m: No devices available"
     ]
    }
   ],
   "source": [
    "# =============================================================================\n",
    "# BEGIN !!!\n",
    "# =============================================================================\n",
    "\n",
    "uut = probe_bladerf()\n",
    "\n",
    "if( uut == None ):\n",
    "    print( \"No bladeRFs detected. Exiting.\" )\n",
    "    shutdown( error = -1, board = None )\n",
    "\n",
    "b          = _bladerf.BladeRF( uut )\n",
    "board_name = b.board_name\n",
    "fpga_size  = b.fpga_size\n",
    "\n",
    "\n",
    "if( config.getboolean(board_name + '-load-fpga', 'enable') ):\n",
    "    print( \"Loading FPGA...\" )\n",
    "    try:\n",
    "        status = load_fpga( b, config.get(board_name + '-load-fpga',\n",
    "                                          'image_' + str(fpga_size) + 'kle' ) )\n",
    "    except:\n",
    "        print( \"ERROR loading FPGA.\" )\n",
    "        raise\n",
    "\n",
    "    if( status < 0 ):\n",
    "        print( \"ERROR loading FPGA.\" )\n",
    "        shutdown( error = status, board = b )\n",
    "else:\n",
    "    print( \"Skipping FPGA load due to configuration setting.\" )\n",
    "\n",
    "status = print_versions( device = b )"
   ]
  },
  {
   "cell_type": "code",
   "execution_count": null,
   "metadata": {},
   "outputs": [],
   "source": [
    "s = \"bladerf2-rx\"\n",
    "rx_ch   = _bladerf.CHANNEL_RX(config.getint(s, 'rx_channel'))\n",
    "rx_freq = int(config.getfloat(s, 'rx_frequency'))\n",
    "rx_rate = int(config.getfloat(s, 'rx_samplerate'))\n",
    "rx_gain = int(config.getfloat(s, 'rx_gain'))\n",
    "rx_ns   = int(config.getfloat(s, 'rx_num_samples'))\n",
    "rx_file = config.get(s, 'rx_file')"
   ]
  },
  {
   "cell_type": "code",
   "execution_count": null,
   "metadata": {},
   "outputs": [],
   "source": [
    "# Make this blocking for now ...\n",
    "receive(b,rx_ch,rx_freq,rx_rate,rx_gain,None,None,rx_file,rx_ns)"
   ]
  },
  {
   "cell_type": "code",
   "execution_count": null,
   "metadata": {},
   "outputs": [],
   "source": [
    "shutdown()"
   ]
  }
 ],
 "metadata": {
  "interpreter": {
   "hash": "916dbcbb3f70747c44a77c7bcd40155683ae19c65e1c03b4aa3499c5328201f1"
  },
  "kernelspec": {
   "display_name": "Python 3.8.10 64-bit",
   "language": "python",
   "name": "python3"
  },
  "language_info": {
   "codemirror_mode": {
    "name": "ipython",
    "version": 3
   },
   "file_extension": ".py",
   "mimetype": "text/x-python",
   "name": "python",
   "nbconvert_exporter": "python",
   "pygments_lexer": "ipython3",
   "version": "3.8.10"
  },
  "orig_nbformat": 4
 },
 "nbformat": 4,
 "nbformat_minor": 2
}
