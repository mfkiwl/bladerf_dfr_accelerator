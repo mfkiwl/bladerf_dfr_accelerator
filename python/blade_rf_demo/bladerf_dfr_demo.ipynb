{
 "cells": [
  {
   "cell_type": "markdown",
   "metadata": {},
   "source": [
    "# BladeRF Delayed Feedback Reservoir Demo"
   ]
  },
  {
   "cell_type": "markdown",
   "metadata": {},
   "source": [
    "## Import Statements"
   ]
  },
  {
   "cell_type": "code",
   "execution_count": 37,
   "metadata": {},
   "outputs": [],
   "source": [
    "# package with system tools\n",
    "import sys\n",
    "\n",
    "# package with os and file I/O tools\n",
    "import os\n",
    "\n",
    "# package with tools to parse .ini file\n",
    "from configparser         import ConfigParser\n",
    "\n",
    "# package with tools to interface with bladerf\n",
    "from bladerf              import _bladerf"
   ]
  },
  {
   "cell_type": "markdown",
   "metadata": {},
   "source": [
    "## BladeRF Device Functions"
   ]
  },
  {
   "cell_type": "markdown",
   "metadata": {},
   "source": [
    "### Close the Device and Exit"
   ]
  },
  {
   "cell_type": "code",
   "execution_count": 38,
   "metadata": {},
   "outputs": [],
   "source": [
    "# =============================================================================\n",
    "# Close the device and exit\n",
    "# =============================================================================\n",
    "def shutdown( error = 0, board = None ):\n",
    "    print( \"Shutting down with error code: \" + str(error) )\n",
    "    if( board != None ):\n",
    "        board.close()\n",
    "    sys.exit(error)"
   ]
  },
  {
   "cell_type": "markdown",
   "metadata": {},
   "source": [
    "### Print BladeRF Version Information"
   ]
  },
  {
   "cell_type": "code",
   "execution_count": 39,
   "metadata": {},
   "outputs": [],
   "source": [
    "# =============================================================================\n",
    "# Version information\n",
    "# =============================================================================\n",
    "def print_versions( device = None ):\n",
    "    print( \"libbladeRF version: \" + str(_bladerf.version()) )\n",
    "    if( device != None ):\n",
    "        try:\n",
    "            print( \"Firmware version: \" + str(device.get_fw_version()) )\n",
    "        except:\n",
    "            print( \"Firmware version: \" + \"ERROR\" )\n",
    "            raise\n",
    "\n",
    "        try:\n",
    "            print( \"FPGA version: \"     + str(device.get_fpga_version()) )\n",
    "        except:\n",
    "            print( \"FPGA version: \"     + \"ERROR\" )\n",
    "            raise\n",
    "\n",
    "    return 0"
   ]
  },
  {
   "cell_type": "markdown",
   "metadata": {},
   "source": [
    "### Autodetect Connected BladeRF Board"
   ]
  },
  {
   "cell_type": "code",
   "execution_count": 40,
   "metadata": {},
   "outputs": [],
   "source": [
    "# =============================================================================\n",
    "# Search for a bladeRF device attached to the host system\n",
    "# Returns a bladeRF device handle.\n",
    "# =============================================================================\n",
    "def probe_bladerf():\n",
    "    device = None\n",
    "    print( \"Searching for bladeRF devices...\" )\n",
    "    try:\n",
    "        devinfos = _bladerf.get_device_list()\n",
    "        if( len(devinfos) == 1 ):\n",
    "            device = \"{backend}:device={usb_bus}:{usb_addr}\".format(**devinfos[0]._asdict())\n",
    "            print( \"Found bladeRF device: \" + str(device) )\n",
    "        if( len(devinfos) > 1 ):\n",
    "            print( \"Unsupported feature: more than one bladeRFs detected.\" )\n",
    "            print( \"\\n\".join([str(devinfo) for devinfo in devinfos]) )\n",
    "            shutdown( error = -1, board = None )\n",
    "    except _bladerf.BladeRFError:\n",
    "        print( \"No bladeRF devices found.\" )\n",
    "        pass\n",
    "\n",
    "    return device"
   ]
  },
  {
   "cell_type": "markdown",
   "metadata": {},
   "source": [
    "### Load BladeRF FPGA with Custom Image"
   ]
  },
  {
   "cell_type": "code",
   "execution_count": 41,
   "metadata": {},
   "outputs": [],
   "source": [
    "# =============================================================================\n",
    "# Load FPGA\n",
    "# =============================================================================\n",
    "def load_fpga( device, image ):\n",
    "\n",
    "    image = os.path.abspath( image )\n",
    "\n",
    "    if( not os.path.exists(image) ):\n",
    "        print( \"FPGA image does not exist: \" + str(image) )\n",
    "        return -1\n",
    "\n",
    "    try:\n",
    "        print( \"Loading FPGA image: \" + str(image ) )\n",
    "        device.load_fpga( image )\n",
    "        fpga_loaded  = device.is_fpga_configured()\n",
    "        fpga_version = device.get_fpga_version()\n",
    "\n",
    "        if( fpga_loaded ):\n",
    "            print( \"FPGA successfully loaded. Version: \" + str(fpga_version) )\n",
    "\n",
    "    except _bladerf.BladeRFError:\n",
    "        print( \"Error loading FPGA.\" )\n",
    "        raise\n",
    "\n",
    "    return 0"
   ]
  },
  {
   "cell_type": "code",
   "execution_count": 42,
   "metadata": {},
   "outputs": [],
   "source": [
    "# =============================================================================\n",
    "# Load Configuration\n",
    "# =============================================================================\n",
    "\n",
    "config = ConfigParser()\n",
    "config.read('txrx.ini')\n",
    "\n",
    "# Set libbladeRF verbosity level\n",
    "verbosity = config.get('common', 'libbladerf_verbosity').upper()\n",
    "if  ( verbosity == \"VERBOSE\" ):  _bladerf.set_verbosity( 0 )\n",
    "elif( verbosity == \"DEBUG\" ):    _bladerf.set_verbosity( 1 )\n",
    "elif( verbosity == \"INFO\" ):     _bladerf.set_verbosity( 2 )\n",
    "elif( verbosity == \"WARNING\" ):  _bladerf.set_verbosity( 3 )\n",
    "elif( verbosity == \"ERROR\" ):    _bladerf.set_verbosity( 4 )\n",
    "elif( verbosity == \"CRITICAL\" ): _bladerf.set_verbosity( 5 )\n",
    "elif( verbosity == \"SILENT\" ):   _bladerf.set_verbosity( 6 )\n",
    "else:\n",
    "    print( \"Invalid libbladerf_verbosity specified in configuration file:\",\n",
    "           verbosity )\n",
    "    shutdown( error = -1, board = None )"
   ]
  },
  {
   "cell_type": "markdown",
   "metadata": {},
   "source": [
    "## BladeRF DFR Test"
   ]
  },
  {
   "cell_type": "code",
   "execution_count": 43,
   "metadata": {},
   "outputs": [
    {
     "name": "stdout",
     "output_type": "stream",
     "text": [
      "Searching for bladeRF devices...\n",
      "Found bladeRF device: libusb:device=4:2\n"
     ]
    }
   ],
   "source": [
    "# =============================================================================\n",
    "# BEGIN !!!\n",
    "# =============================================================================\n",
    "\n",
    "# auto detect connected bladerf board\n",
    "uut = probe_bladerf()\n",
    "\n",
    "# if a board was not detected\n",
    "if( uut == None ):\n",
    "    print( \"No bladeRFs detected. Exiting.\" )\n",
    "    shutdown( error = -1, board = None )\n",
    "\n",
    "# get connected board information\n",
    "b          = _bladerf.BladeRF( uut )\n",
    "board_name = b.board_name\n",
    "fpga_size  = b.fpga_size\n"
   ]
  },
  {
   "cell_type": "markdown",
   "metadata": {},
   "source": [
    "### Loading FPGA\n",
    "\n",
    "Alternatively:\n",
    "```\n",
    "bladeRF-cli -l /home/oshears/Documents/bladeRF/bladerf_dfr_accelerator/python/blade_rf_demo/hostedxA4_dfr.rbf\n",
    "```"
   ]
  },
  {
   "cell_type": "code",
   "execution_count": 44,
   "metadata": {},
   "outputs": [
    {
     "name": "stdout",
     "output_type": "stream",
     "text": [
      "Skipping FPGA load due to configuration setting.\n",
      "libbladeRF version: v2.4.1 (\"2.4.1-git-5a146b2a\")\n",
      "Firmware version: v2.4.0 (\"2.4.0-git-a3d5c55f\")\n",
      "FPGA version: v0.14.0 (\"0.14.0\")\n"
     ]
    }
   ],
   "source": [
    "# load bladerf fpga with custom image\n",
    "if( config.getboolean(board_name + '-load-fpga', 'enable') ):\n",
    "    print( \"Loading FPGA...\" )\n",
    "    try:\n",
    "        status = load_fpga( b, config.get(board_name + '-load-fpga','image_' + str(fpga_size) + 'kle' ) )\n",
    "        # print(\"Successfully loaded FPGA.\")\n",
    "        # status = 0\n",
    "    except:\n",
    "        print( \"ERROR loading FPGA.\" )\n",
    "        raise\n",
    "\n",
    "    if( status < 0 ):\n",
    "        print( \"ERROR loading FPGA.\" )\n",
    "        shutdown( error = status, board = b )\n",
    "else:\n",
    "    print( \"Skipping FPGA load due to configuration setting.\" )\n",
    "\n",
    "status = print_versions( device = b )"
   ]
  },
  {
   "cell_type": "code",
   "execution_count": 45,
   "metadata": {},
   "outputs": [],
   "source": [
    "s = \"bladerf2-rx\"\n",
    "rx_ch   = _bladerf.CHANNEL_RX(config.getint(s, 'rx_channel'))\n",
    "rx_freq = int(config.getfloat(s, 'rx_frequency'))\n",
    "rx_rate = int(config.getfloat(s, 'rx_samplerate'))\n",
    "rx_gain = int(config.getfloat(s, 'rx_gain'))\n",
    "rx_ns   = int(config.getfloat(s, 'rx_num_samples'))\n",
    "rx_file = config.get(s, 'rx_file')"
   ]
  },
  {
   "cell_type": "code",
   "execution_count": 46,
   "metadata": {},
   "outputs": [
    {
     "name": "stdout",
     "output_type": "stream",
     "text": [
      "RX: Start\n"
     ]
    }
   ],
   "source": [
    "status = 0\n",
    "num_samples = 1024\n",
    "\n",
    "if( b == None ):\n",
    "    print( \"RX: Invalid device handle.\" )\n",
    "\n",
    "if( rx_ch == None ):\n",
    "    print( \"RX: Invalid channel.\" )\n",
    "\n",
    "# Configure BladeRF\n",
    "ch             = b.Channel(rx_ch)\n",
    "ch.frequency   = rx_freq\n",
    "ch.sample_rate = rx_rate\n",
    "ch.gain        = rx_gain\n",
    "\n",
    "# Setup synchronous stream\n",
    "b.sync_config(  layout         = _bladerf.ChannelLayout.RX_X1,\n",
    "                fmt            = _bladerf.Format.SC16_Q11,\n",
    "                num_buffers    = 16,\n",
    "                buffer_size    = 8192,\n",
    "                num_transfers  = 8,\n",
    "                stream_timeout = 3500)\n",
    "\n",
    "# Enable module\n",
    "print( \"RX: Start\" )\n",
    "ch.enable = True\n",
    "\n",
    "# Create receive buffer\n",
    "bytes_per_sample = 4\n",
    "buf = bytearray(1024*bytes_per_sample)\n",
    "num_samples_read = 0"
   ]
  },
  {
   "cell_type": "code",
   "execution_count": 47,
   "metadata": {},
   "outputs": [
    {
     "name": "stdout",
     "output_type": "stream",
     "text": [
      "RX: Stop\n",
      "RX: Done\n"
     ]
    }
   ],
   "source": [
    "# Save the samples\n",
    "with open(rx_file, 'w') as outfile:\n",
    "    while True:\n",
    "        if num_samples > 0 and num_samples_read == num_samples:\n",
    "            break\n",
    "        elif num_samples > 0:\n",
    "            num = min(len(buf)//bytes_per_sample,\n",
    "                        num_samples-num_samples_read)\n",
    "        else:\n",
    "            num = len(buf)//bytes_per_sample\n",
    "\n",
    "        # Read into buffer\n",
    "        b.sync_rx(buf, num)\n",
    "        num_samples_read += num\n",
    "\n",
    "        # write to .txt file\n",
    "        for sample_num in range(num_samples):\n",
    "            sample = buf[4*sample_num:4*(sample_num+1)]\n",
    "            sample.reverse()\n",
    "            sample_int = (sample[0] << 24) + (sample[1] << 16) + (sample[2] << 8) + (sample[3])\n",
    "            sample_str = '{:032b}'.format(sample_int)\n",
    "            outfile.write(sample_str + \"\\n\")\n",
    "\n",
    "# Disable module\n",
    "print( \"RX: Stop\" )\n",
    "ch.enable = False\n",
    "\n",
    "print( \"RX: Done\" )"
   ]
  },
  {
   "cell_type": "code",
   "execution_count": 48,
   "metadata": {},
   "outputs": [],
   "source": [
    "# close connection to board\n",
    "b.close()"
   ]
  }
 ],
 "metadata": {
  "interpreter": {
   "hash": "916dbcbb3f70747c44a77c7bcd40155683ae19c65e1c03b4aa3499c5328201f1"
  },
  "kernelspec": {
   "display_name": "Python 3.8.10 64-bit",
   "language": "python",
   "name": "python3"
  },
  "language_info": {
   "codemirror_mode": {
    "name": "ipython",
    "version": 3
   },
   "file_extension": ".py",
   "mimetype": "text/x-python",
   "name": "python",
   "nbconvert_exporter": "python",
   "pygments_lexer": "ipython3",
   "version": "3.8.10"
  },
  "orig_nbformat": 4
 },
 "nbformat": 4,
 "nbformat_minor": 2
}
