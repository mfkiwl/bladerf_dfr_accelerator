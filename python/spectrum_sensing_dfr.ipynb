{
 "cells": [
  {
   "cell_type": "markdown",
   "metadata": {},
   "source": [
    "# Spectrum Sensing Delayed Feedback Reservoir (DFR)"
   ]
  },
  {
   "cell_type": "markdown",
   "metadata": {},
   "source": [
    "## Import Packages"
   ]
  },
  {
   "cell_type": "code",
   "execution_count": 110,
   "metadata": {},
   "outputs": [],
   "source": [
    "import numpy as np\n",
    "import matplotlib.pyplot as plt\n",
    "from sklearn.metrics import roc_curve\n",
    "from sklearn.metrics import roc_auc_score"
   ]
  },
  {
   "cell_type": "markdown",
   "metadata": {},
   "source": [
    "## Define Mackey-Glass Transfer Function\n",
    "\n",
    "[Mackey-Glass equation on Scholarpedia](http://www.scholarpedia.org/article/Mackey-Glass_equation)\n",
    "\n",
    "$$\n",
    "y = \\frac{2 \\times x}{0.8 + 0.2(2.1 \\times x)^{10}}\n",
    "$$"
   ]
  },
  {
   "cell_type": "code",
   "execution_count": 111,
   "metadata": {},
   "outputs": [
    {
     "data": {
      "image/png": "[encoded data removed]",
      "text/plain": [
       "<Figure size 432x288 with 1 Axes>"
      ]
     },
     "metadata": {
      "needs_background": "light"
     },
     "output_type": "display_data"
    }
   ],
   "source": [
    "# mackey-glass function definition\n",
    "def mg(x):\n",
    "    a = 2\n",
    "    b = 0.8\n",
    "    c = 0.2\n",
    "    d = 2.1\n",
    "    p = 10\n",
    "\n",
    "    return (a * x) / (b + c * np.power( (d * x), p) )\n",
    "\n",
    "# graph mackey-glass function characteristics\n",
    "x = np.linspace(0,1,100)\n",
    "plt.title(\"Mackey-Glass Transfer Function\")\n",
    "plt.scatter(x,mg(x))\n",
    "plt.show()"
   ]
  },
  {
   "cell_type": "markdown",
   "metadata": {},
   "source": [
    "## Configure DFR Input Data Samples"
   ]
  },
  {
   "cell_type": "code",
   "execution_count": 112,
   "metadata": {},
   "outputs": [],
   "source": [
    "num_samples = 6102\n",
    "\n",
    "init_samples = 20\n",
    "train_samples = 49 * init_samples\n",
    "test_samples = num_samples - (init_samples + train_samples)\n",
    "\n",
    "\n",
    "\n",
    "SNR = \"-10\"\n",
    "# SNR = \"0\"\n",
    "\n",
    "ss_data = np.genfromtxt(f'./spectrum_data/spectrum_data_adc_{SNR}db.csv', delimiter=',')\n",
    "i_data = ss_data[:,0]\n",
    "q_data = ss_data[:,1]\n",
    "\n",
    "# max ADC output for signed/unsigned number\n",
    "ADC_MAX_SIGNED = 2**11\n",
    "\n",
    "\n",
    "i_data_norm = i_data / ADC_MAX_SIGNED\n",
    "q_data_norm = q_data / ADC_MAX_SIGNED\n",
    "\n",
    "x = np.sqrt(np.power(i_data_norm,2) + np.power(q_data_norm,2))\n",
    "y = ss_data[:,2]\n",
    "\n",
    "# define sample offsets\n",
    "TRAIN_INIT_BEGIN = 0\n",
    "TRAIN_DATA_BEGIN = init_samples\n",
    "TEST_DATA_BEGIN = init_samples + train_samples\n",
    "\n",
    "# index and save training and testing data\n",
    "y_train = y[TRAIN_DATA_BEGIN:TEST_DATA_BEGIN]\n",
    "y_test = y[TEST_DATA_BEGIN:]"
   ]
  },
  {
   "cell_type": "markdown",
   "metadata": {},
   "source": [
    "## Configure DFR Properties"
   ]
  },
  {
   "cell_type": "code",
   "execution_count": 113,
   "metadata": {},
   "outputs": [],
   "source": [
    "seed = 0\n",
    "rng = np.random.default_rng(seed)\n",
    "\n",
    "N = 50\n",
    "gamma = 0.5\n",
    "eta = 0.4\n",
    "LAST_NODE = N - 1\n",
    "reg = 1e-8"
   ]
  },
  {
   "cell_type": "markdown",
   "metadata": {},
   "source": [
    "## Create DFR Masked Data Samples"
   ]
  },
  {
   "cell_type": "code",
   "execution_count": 114,
   "metadata": {},
   "outputs": [],
   "source": [
    "mask = rng.uniform(-0.5,0.5,N)\n",
    "\n",
    "# mask generation\n",
    "masked_samples = np.empty((num_samples,N))\n",
    "for i in range(num_samples):\n",
    "    masked_samples[i] = mask * x[i]"
   ]
  },
  {
   "cell_type": "markdown",
   "metadata": {},
   "source": [
    "## Initialize DFR for Training "
   ]
  },
  {
   "cell_type": "code",
   "execution_count": 115,
   "metadata": {},
   "outputs": [],
   "source": [
    "reservoir = np.zeros(N)\n",
    "reservoir_history = np.zeros((train_samples,N))\n",
    "\n",
    "for i in range(init_samples):\n",
    "    for j in range(N):\n",
    "        g_i = mg(gamma * masked_samples[TRAIN_INIT_BEGIN + i][j] + eta * reservoir[LAST_NODE])\n",
    "        reservoir[1:N] = reservoir[0:LAST_NODE]\n",
    "        reservoir[0] = g_i"
   ]
  },
  {
   "cell_type": "markdown",
   "metadata": {},
   "source": [
    "## Run DFR with Training Data"
   ]
  },
  {
   "cell_type": "code",
   "execution_count": 116,
   "metadata": {},
   "outputs": [],
   "source": [
    "for i in range(train_samples):\n",
    "    for j in range(N):\n",
    "\n",
    "        g_i = mg(gamma * masked_samples[TRAIN_DATA_BEGIN + i][j] + eta * reservoir[LAST_NODE])\n",
    "        reservoir[1:N] = reservoir[0:LAST_NODE]\n",
    "        reservoir[0] = g_i\n",
    "\n",
    "    reservoir_history[i] = reservoir"
   ]
  },
  {
   "cell_type": "markdown",
   "metadata": {},
   "source": [
    "## Calculate DFR Readout Weights using Ridge Regression\n",
    "\n",
    "$$\n",
    "W = \\frac{\\hat{y} \\cdot X}{X^{T} \\cdot X + \\lambda I}\n",
    "$$"
   ]
  },
  {
   "cell_type": "code",
   "execution_count": 117,
   "metadata": {},
   "outputs": [],
   "source": [
    "W = np.dot(np.dot(y_train,reservoir_history),np.linalg.inv((np.dot(reservoir_history.T,reservoir_history)) + reg * np.eye(N)))"
   ]
  },
  {
   "cell_type": "markdown",
   "metadata": {},
   "source": [
    "## Calculate Training Accuracy"
   ]
  },
  {
   "cell_type": "code",
   "execution_count": 118,
   "metadata": {},
   "outputs": [
    {
     "name": "stdout",
     "output_type": "stream",
     "text": [
      "Ridge Regression Training Accuracy:\t0.7122448979591837\n",
      "AUC: 0.710\n"
     ]
    }
   ],
   "source": [
    "# calculate DFR outputs\n",
    "y_hat = reservoir_history.dot(W)\n",
    "\n",
    "# create matrix for binary spectrum predictions\n",
    "y_hat_bin = y_hat.copy()\n",
    "y_hat_bin[y_hat_bin >= 0.5] = 1\n",
    "y_hat_bin[y_hat_bin < 0.5] = 0\n",
    "\n",
    "# calculate accuracy\n",
    "train_accuracy = (y_hat_bin == y_train).mean()\n",
    "print(f\"Ridge Regression Training Accuracy:\\t{train_accuracy}\")\n",
    "\n",
    "auc = roc_auc_score(y_train, y_hat)\n",
    "print('AUC: %.3f' % auc)"
   ]
  },
  {
   "cell_type": "markdown",
   "metadata": {},
   "source": [
    "## Run DFR with Testing Data"
   ]
  },
  {
   "cell_type": "code",
   "execution_count": 119,
   "metadata": {},
   "outputs": [],
   "source": [
    "reservoir_history = np.zeros((test_samples,N))\n",
    "for i in range(test_samples):\n",
    "    for j in range(N):\n",
    "\n",
    "        g_i = mg(gamma * masked_samples[TEST_DATA_BEGIN + i][j] + eta * reservoir[LAST_NODE])\n",
    "        reservoir[1:N] = reservoir[0:LAST_NODE]\n",
    "        reservoir[0] = g_i\n",
    "\n",
    "    reservoir_history[i] = reservoir"
   ]
  },
  {
   "cell_type": "markdown",
   "metadata": {},
   "source": [
    "## Calculate Testing Accuracy"
   ]
  },
  {
   "cell_type": "code",
   "execution_count": 122,
   "metadata": {},
   "outputs": [
    {
     "name": "stdout",
     "output_type": "stream",
     "text": [
      "Ridge Regression Testing Accuracy:\t0.5372402979223834\n",
      "AUC: 0.666\n"
     ]
    },
    {
     "data": {
      "image/png": "[encoded data removed]",
      "text/plain": [
       "<Figure size 640x480 with 1 Axes>"
      ]
     },
     "metadata": {
      "needs_background": "light"
     },
     "output_type": "display_data"
    }
   ],
   "source": [
    "# calculate DFR outputs\n",
    "y_hat = reservoir_history.dot(W)\n",
    "\n",
    "# create matrix for binary spectrum predictions\n",
    "y_hat_bin = y_hat.copy()\n",
    "y_hat_bin[y_hat_bin >= 0.5] = 1\n",
    "y_hat_bin[y_hat_bin < 0.5] = 0\n",
    "\n",
    "# calculate accuracy\n",
    "test_accuracy = (y_hat_bin == y_test).mean()\n",
    "print(f\"Ridge Regression Testing Accuracy:\\t{test_accuracy}\")\n",
    "\n",
    "# calculate AUC\n",
    "auc = roc_auc_score(y_test, y_hat)\n",
    "print('AUC: %.3f' % auc)\n",
    "\n",
    "# show plot\n",
    "plt.figure(figsize=(8, 6), dpi=80)\n",
    "plt.clf()\n",
    "fpr, tpr, _ = roc_curve(y_test, y_hat)\n",
    "# plt.plot(fpr, tpr, marker='.')\n",
    "plt.plot(fpr, tpr)\n",
    "plt.title(\"Receiver Operating Characteristic (ROC) Curve\")\n",
    "plt.xlabel('False Positive Rate')\n",
    "plt.ylabel('True Positive Rate')\n",
    "plt.show()"
   ]
  },
  {
   "cell_type": "markdown",
   "metadata": {},
   "source": [
    "## Save DFR Properties for HLS Model"
   ]
  },
  {
   "cell_type": "code",
   "execution_count": 121,
   "metadata": {},
   "outputs": [],
   "source": [
    "# mask\n",
    "fh = open(\"./dfr_config/float_mask_data.txt\",\"w\")\n",
    "for i in range(N):\n",
    "    fh.write(str(mask[i]) + \"\\n\")\n",
    "fh.close()\n",
    "\n",
    "# weights\n",
    "fh = open(\"./dfr_config/float_weight_data.txt\",\"w\")\n",
    "for i in range(N):\n",
    "    fh.write(str(W[i]) + \"\\n\")\n",
    "fh.close()"
   ]
  }
 ],
 "metadata": {
  "interpreter": {
   "hash": "31f2aee4e71d21fbe5cf8b01ff0e069b9275f58929596ceb00d14d90e3e16cd6"
  },
  "kernelspec": {
   "display_name": "Python 3.8.9 64-bit",
   "language": "python",
   "name": "python3"
  },
  "language_info": {
   "codemirror_mode": {
    "name": "ipython",
    "version": 3
   },
   "file_extension": ".py",
   "mimetype": "text/x-python",
   "name": "python",
   "nbconvert_exporter": "python",
   "pygments_lexer": "ipython3",
   "version": "3.8.9"
  },
  "orig_nbformat": 4
 },
 "nbformat": 4,
 "nbformat_minor": 2
}
