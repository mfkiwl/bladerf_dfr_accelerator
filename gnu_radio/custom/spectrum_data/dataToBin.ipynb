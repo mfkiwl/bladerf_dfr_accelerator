{
 "cells": [
  {
   "cell_type": "code",
   "execution_count": 41,
   "metadata": {},
   "outputs": [],
   "source": [
    "import numpy as np\n",
    "import csv"
   ]
  },
  {
   "cell_type": "code",
   "execution_count": 42,
   "metadata": {},
   "outputs": [],
   "source": [
    "i_data = []\n",
    "q_data = []\n",
    "output = []"
   ]
  },
  {
   "cell_type": "code",
   "execution_count": 43,
   "metadata": {},
   "outputs": [],
   "source": [
    "with open(\"spectrum_data_adc_-10db.csv\", newline='') as csvfile:\n",
    "    spamreader = csv.reader(csvfile)\n",
    "    for row in spamreader:\n",
    "        i_data.append(float(row[0]))\n",
    "        q_data.append(float(row[1]))\n",
    "        output.append(float(row[2]))"
   ]
  },
  {
   "cell_type": "code",
   "execution_count": 44,
   "metadata": {},
   "outputs": [],
   "source": [
    "i_data = np.array(i_data)\n",
    "i_data.astype(\"float32\").tofile(\"i_data.bin\")\n",
    "\n",
    "q_data = np.array(q_data)\n",
    "q_data.astype(\"float32\").tofile(\"q_data.bin\")\n",
    "\n",
    "output = np.array(output)\n",
    "output.astype(\"float32\").tofile(\"out_data.bin\")"
   ]
  },
  {
   "cell_type": "code",
   "execution_count": 45,
   "metadata": {},
   "outputs": [],
   "source": [
    "# i_data_file = open(\"i_data.bin\",\"wb\")\n",
    "# q_data_file = open(\"q_data.bin\",\"wb\")\n",
    "# out_data_file = open(\"out_data.bin\",\"wb\")\n",
    "# for i in range(len(i_data)):\n",
    "#     i_data_file.write(i_data[i].to_bytes(length=2,byteorder='big',signed=True)) \n",
    "#     q_data_file.write(q_data[i].to_bytes(length=2,byteorder='big',signed=True)) \n",
    "#     out_data_file.write(output[i].to_bytes(length=2,byteorder='big',signed=True)) \n",
    "# i_data_file.close()\n",
    "# q_data_file.close()\n",
    "# out_data_file.close()"
   ]
  }
 ],
 "metadata": {
  "interpreter": {
   "hash": "31f2aee4e71d21fbe5cf8b01ff0e069b9275f58929596ceb00d14d90e3e16cd6"
  },
  "kernelspec": {
   "display_name": "Python 3.8.10 64-bit",
   "language": "python",
   "name": "python3"
  },
  "language_info": {
   "codemirror_mode": {
    "name": "ipython",
    "version": 3
   },
   "file_extension": ".py",
   "mimetype": "text/x-python",
   "name": "python",
   "nbconvert_exporter": "python",
   "pygments_lexer": "ipython3",
   "version": "3.8.10"
  },
  "orig_nbformat": 4
 },
 "nbformat": 4,
 "nbformat_minor": 2
}
